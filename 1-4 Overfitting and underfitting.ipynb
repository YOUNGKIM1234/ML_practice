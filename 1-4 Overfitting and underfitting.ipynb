{
  "nbformat": 4,
  "nbformat_minor": 0,
  "metadata": {
    "colab": {
      "name": "Untitled2.ipynb",
      "version": "0.3.2",
      "provenance": [],
      "collapsed_sections": [],
      "include_colab_link": true
    },
    "kernelspec": {
      "name": "python3",
      "display_name": "Python 3"
    }
  },
  "cells": [
    {
      "cell_type": "markdown",
      "metadata": {
        "id": "view-in-github",
        "colab_type": "text"
      },
      "source": [
        "<a href=\"https://colab.research.google.com/github/YOUNGKIM1234/ML_practice/blob/master/1-4%20Overfitting%20and%20underfitting.ipynb\" target=\"_parent\"><img src=\"https://colab.research.google.com/assets/colab-badge.svg\" alt=\"Open In Colab\"/></a>"
      ]
    },
    {
      "metadata": {
        "id": "3qWr0aEG5FG2",
        "colab_type": "code",
        "colab": {}
      },
      "cell_type": "code",
      "source": [
        "import tensorflow as tf\n",
        "from tensorflow import keras\n",
        "\n",
        "import numpy as np\n",
        "import matplotlib.pyplot as plt"
      ],
      "execution_count": 0,
      "outputs": []
    },
    {
      "metadata": {
        "id": "HRwwqD4F5Hsx",
        "colab_type": "code",
        "colab": {
          "base_uri": "https://localhost:8080/",
          "height": 72
        },
        "outputId": "e27cc380-2ce9-4b49-cfdd-40d80ec9aeb3"
      },
      "cell_type": "code",
      "source": [
        "NUM_WORDS = 10000\n",
        "\n",
        "(train_data, train_labels), (test_data, test_labels) = keras.datasets.imdb.load_data(num_words=NUM_WORDS)\n",
        "\n",
        "def multi_hot_sequences(sequences, dimension):\n",
        "    # Create an all-zero matrix of shape (len(sequences), dimension)\n",
        "    results = np.zeros((len(sequences), dimension))\n",
        "    for i, word_indices in enumerate(sequences):\n",
        "        results[i, word_indices] = 1.0  # set specific indices of results[i] to 1s\n",
        "    return results"
      ],
      "execution_count": 2,
      "outputs": [
        {
          "output_type": "stream",
          "text": [
            "Downloading data from https://storage.googleapis.com/tensorflow/tf-keras-datasets/imdb.npz\n",
            "17465344/17464789 [==============================] - 0s 0us/step\n"
          ],
          "name": "stdout"
        }
      ]
    },
    {
      "metadata": {
        "id": "qJm0RqeU5IAR",
        "colab_type": "code",
        "colab": {}
      },
      "cell_type": "code",
      "source": [
        "\n",
        "train_data = multi_hot_sequences(train_data, dimension=NUM_WORDS)\n",
        "test_data = multi_hot_sequences(test_data, dimension=NUM_WORDS)"
      ],
      "execution_count": 0,
      "outputs": []
    },
    {
      "metadata": {
        "id": "5cKV40g65Jtx",
        "colab_type": "code",
        "colab": {
          "base_uri": "https://localhost:8080/",
          "height": 246
        },
        "outputId": "95b4514f-8c3d-43f5-abb8-150a5c657712"
      },
      "cell_type": "code",
      "source": [
        "baseline_model = keras.Sequential([\n",
        "    # `input_shape` is only required here so that `.summary` works. \n",
        "    keras.layers.Dense(16, activation=tf.nn.relu, input_shape=(NUM_WORDS,)),\n",
        "    keras.layers.Dense(16, activation=tf.nn.relu),\n",
        "    keras.layers.Dense(1, activation=tf.nn.sigmoid)\n",
        "])\n",
        "\n",
        "baseline_model.compile(optimizer='adam',\n",
        "                       loss='binary_crossentropy',\n",
        "                       metrics=['accuracy', 'binary_crossentropy'])\n",
        "\n",
        "baseline_model.summary()"
      ],
      "execution_count": 4,
      "outputs": [
        {
          "output_type": "stream",
          "text": [
            "_________________________________________________________________\n",
            "Layer (type)                 Output Shape              Param #   \n",
            "=================================================================\n",
            "dense (Dense)                (None, 16)                160016    \n",
            "_________________________________________________________________\n",
            "dense_1 (Dense)              (None, 16)                272       \n",
            "_________________________________________________________________\n",
            "dense_2 (Dense)              (None, 1)                 17        \n",
            "=================================================================\n",
            "Total params: 160,305\n",
            "Trainable params: 160,305\n",
            "Non-trainable params: 0\n",
            "_________________________________________________________________\n"
          ],
          "name": "stdout"
        }
      ]
    },
    {
      "metadata": {
        "id": "gnWRb9TD5MM1",
        "colab_type": "code",
        "colab": {
          "base_uri": "https://localhost:8080/",
          "height": 758
        },
        "outputId": "9d1d8893-85ac-4713-ad30-c1b7b9a461fe"
      },
      "cell_type": "code",
      "source": [
        "baseline_history = baseline_model.fit(train_data,\n",
        "                                      train_labels,\n",
        "                                      epochs=20,\n",
        "                                      batch_size=512,\n",
        "                                      validation_data=(test_data, test_labels),\n",
        "                                      verbose=2)"
      ],
      "execution_count": 13,
      "outputs": [
        {
          "output_type": "stream",
          "text": [
            "Train on 25000 samples, validate on 25000 samples\n",
            "Epoch 1/20\n",
            " - 4s - loss: 0.0026 - acc: 1.0000 - binary_crossentropy: 0.0026 - val_loss: 0.8422 - val_acc: 0.8557 - val_binary_crossentropy: 0.8422\n",
            "Epoch 2/20\n",
            " - 4s - loss: 0.0023 - acc: 1.0000 - binary_crossentropy: 0.0023 - val_loss: 0.8594 - val_acc: 0.8554 - val_binary_crossentropy: 0.8594\n",
            "Epoch 3/20\n",
            " - 4s - loss: 0.0020 - acc: 1.0000 - binary_crossentropy: 0.0020 - val_loss: 0.8747 - val_acc: 0.8548 - val_binary_crossentropy: 0.8747\n",
            "Epoch 4/20\n",
            " - 4s - loss: 0.0018 - acc: 1.0000 - binary_crossentropy: 0.0018 - val_loss: 0.8883 - val_acc: 0.8550 - val_binary_crossentropy: 0.8883\n",
            "Epoch 5/20\n",
            " - 4s - loss: 0.0016 - acc: 1.0000 - binary_crossentropy: 0.0016 - val_loss: 0.9042 - val_acc: 0.8553 - val_binary_crossentropy: 0.9042\n",
            "Epoch 6/20\n",
            " - 4s - loss: 0.0014 - acc: 1.0000 - binary_crossentropy: 0.0014 - val_loss: 0.9215 - val_acc: 0.8549 - val_binary_crossentropy: 0.9215\n",
            "Epoch 7/20\n",
            " - 4s - loss: 0.0012 - acc: 1.0000 - binary_crossentropy: 0.0012 - val_loss: 0.9391 - val_acc: 0.8544 - val_binary_crossentropy: 0.9391\n",
            "Epoch 8/20\n",
            " - 4s - loss: 0.0010 - acc: 1.0000 - binary_crossentropy: 0.0010 - val_loss: 0.9548 - val_acc: 0.8546 - val_binary_crossentropy: 0.9548\n",
            "Epoch 9/20\n",
            " - 4s - loss: 9.1345e-04 - acc: 1.0000 - binary_crossentropy: 9.1345e-04 - val_loss: 0.9699 - val_acc: 0.8545 - val_binary_crossentropy: 0.9699\n",
            "Epoch 10/20\n",
            " - 4s - loss: 8.0769e-04 - acc: 1.0000 - binary_crossentropy: 8.0769e-04 - val_loss: 0.9843 - val_acc: 0.8540 - val_binary_crossentropy: 0.9843\n",
            "Epoch 11/20\n",
            " - 4s - loss: 7.1768e-04 - acc: 1.0000 - binary_crossentropy: 7.1768e-04 - val_loss: 0.9979 - val_acc: 0.8539 - val_binary_crossentropy: 0.9979\n",
            "Epoch 12/20\n",
            " - 4s - loss: 6.4174e-04 - acc: 1.0000 - binary_crossentropy: 6.4174e-04 - val_loss: 1.0097 - val_acc: 0.8546 - val_binary_crossentropy: 1.0097\n",
            "Epoch 13/20\n",
            " - 4s - loss: 5.7490e-04 - acc: 1.0000 - binary_crossentropy: 5.7490e-04 - val_loss: 1.0227 - val_acc: 0.8539 - val_binary_crossentropy: 1.0227\n",
            "Epoch 14/20\n",
            " - 4s - loss: 5.1576e-04 - acc: 1.0000 - binary_crossentropy: 5.1576e-04 - val_loss: 1.0347 - val_acc: 0.8539 - val_binary_crossentropy: 1.0347\n",
            "Epoch 15/20\n",
            " - 4s - loss: 4.6723e-04 - acc: 1.0000 - binary_crossentropy: 4.6723e-04 - val_loss: 1.0468 - val_acc: 0.8536 - val_binary_crossentropy: 1.0468\n",
            "Epoch 16/20\n",
            " - 4s - loss: 4.2208e-04 - acc: 1.0000 - binary_crossentropy: 4.2208e-04 - val_loss: 1.0577 - val_acc: 0.8538 - val_binary_crossentropy: 1.0577\n",
            "Epoch 17/20\n",
            " - 4s - loss: 3.8269e-04 - acc: 1.0000 - binary_crossentropy: 3.8269e-04 - val_loss: 1.0682 - val_acc: 0.8539 - val_binary_crossentropy: 1.0682\n",
            "Epoch 18/20\n",
            " - 4s - loss: 3.4858e-04 - acc: 1.0000 - binary_crossentropy: 3.4858e-04 - val_loss: 1.0792 - val_acc: 0.8534 - val_binary_crossentropy: 1.0792\n",
            "Epoch 19/20\n",
            " - 4s - loss: 3.1781e-04 - acc: 1.0000 - binary_crossentropy: 3.1781e-04 - val_loss: 1.0890 - val_acc: 0.8536 - val_binary_crossentropy: 1.0890\n",
            "Epoch 20/20\n",
            " - 4s - loss: 2.9022e-04 - acc: 1.0000 - binary_crossentropy: 2.9022e-04 - val_loss: 1.0989 - val_acc: 0.8531 - val_binary_crossentropy: 1.0989\n"
          ],
          "name": "stdout"
        }
      ]
    },
    {
      "metadata": {
        "id": "arctB5i-51FM",
        "colab_type": "code",
        "colab": {
          "base_uri": "https://localhost:8080/",
          "height": 246
        },
        "outputId": "554c172e-fa48-42b1-e6d1-1f4b01a996c4"
      },
      "cell_type": "code",
      "source": [
        "smaller_model = keras.Sequential([\n",
        "    keras.layers.Dense(4, activation=tf.nn.relu, input_shape=(NUM_WORDS,)),\n",
        "    keras.layers.Dense(4, activation=tf.nn.relu),\n",
        "    keras.layers.Dense(1, activation=tf.nn.sigmoid)\n",
        "])\n",
        "\n",
        "smaller_model.compile(optimizer='adam',\n",
        "                loss='binary_crossentropy',\n",
        "                metrics=['accuracy', 'binary_crossentropy'])\n",
        "\n",
        "smaller_model.summary()"
      ],
      "execution_count": 7,
      "outputs": [
        {
          "output_type": "stream",
          "text": [
            "_________________________________________________________________\n",
            "Layer (type)                 Output Shape              Param #   \n",
            "=================================================================\n",
            "dense_3 (Dense)              (None, 4)                 40004     \n",
            "_________________________________________________________________\n",
            "dense_4 (Dense)              (None, 4)                 20        \n",
            "_________________________________________________________________\n",
            "dense_5 (Dense)              (None, 1)                 5         \n",
            "=================================================================\n",
            "Total params: 40,029\n",
            "Trainable params: 40,029\n",
            "Non-trainable params: 0\n",
            "_________________________________________________________________\n"
          ],
          "name": "stdout"
        }
      ]
    },
    {
      "metadata": {
        "id": "fbWUZ9OR535J",
        "colab_type": "code",
        "colab": {
          "base_uri": "https://localhost:8080/",
          "height": 758
        },
        "outputId": "098094f5-0df8-494b-f53f-a2ecea680e20"
      },
      "cell_type": "code",
      "source": [
        "smaller_history = smaller_model.fit(train_data,\n",
        "                                    train_labels,\n",
        "                                    epochs=20,\n",
        "                                    batch_size=512,\n",
        "                                    validation_data=(test_data, test_labels),\n",
        "                                    verbose=2)"
      ],
      "execution_count": 8,
      "outputs": [
        {
          "output_type": "stream",
          "text": [
            "Train on 25000 samples, validate on 25000 samples\n",
            "Epoch 1/20\n",
            " - 4s - loss: 0.6263 - acc: 0.6403 - binary_crossentropy: 0.6263 - val_loss: 0.5673 - val_acc: 0.7548 - val_binary_crossentropy: 0.5673\n",
            "Epoch 2/20\n",
            " - 4s - loss: 0.5184 - acc: 0.8156 - binary_crossentropy: 0.5184 - val_loss: 0.5067 - val_acc: 0.8376 - val_binary_crossentropy: 0.5067\n",
            "Epoch 3/20\n",
            " - 4s - loss: 0.4623 - acc: 0.8714 - binary_crossentropy: 0.4623 - val_loss: 0.4734 - val_acc: 0.8564 - val_binary_crossentropy: 0.4734\n",
            "Epoch 4/20\n",
            " - 4s - loss: 0.4237 - acc: 0.9028 - binary_crossentropy: 0.4237 - val_loss: 0.4534 - val_acc: 0.8664 - val_binary_crossentropy: 0.4534\n",
            "Epoch 5/20\n",
            " - 4s - loss: 0.3942 - acc: 0.9206 - binary_crossentropy: 0.3942 - val_loss: 0.4453 - val_acc: 0.8597 - val_binary_crossentropy: 0.4453\n",
            "Epoch 6/20\n",
            " - 4s - loss: 0.3695 - acc: 0.9349 - binary_crossentropy: 0.3695 - val_loss: 0.4348 - val_acc: 0.8680 - val_binary_crossentropy: 0.4348\n",
            "Epoch 7/20\n",
            " - 4s - loss: 0.3481 - acc: 0.9448 - binary_crossentropy: 0.3481 - val_loss: 0.4285 - val_acc: 0.8709 - val_binary_crossentropy: 0.4285\n",
            "Epoch 8/20\n",
            " - 4s - loss: 0.3293 - acc: 0.9523 - binary_crossentropy: 0.3293 - val_loss: 0.4312 - val_acc: 0.8668 - val_binary_crossentropy: 0.4312\n",
            "Epoch 9/20\n",
            " - 4s - loss: 0.3122 - acc: 0.9580 - binary_crossentropy: 0.3122 - val_loss: 0.4289 - val_acc: 0.8681 - val_binary_crossentropy: 0.4289\n",
            "Epoch 10/20\n",
            " - 4s - loss: 0.2967 - acc: 0.9627 - binary_crossentropy: 0.2967 - val_loss: 0.4302 - val_acc: 0.8666 - val_binary_crossentropy: 0.4302\n",
            "Epoch 11/20\n",
            " - 4s - loss: 0.2822 - acc: 0.9671 - binary_crossentropy: 0.2822 - val_loss: 0.4351 - val_acc: 0.8651 - val_binary_crossentropy: 0.4351\n",
            "Epoch 12/20\n",
            " - 4s - loss: 0.2692 - acc: 0.9699 - binary_crossentropy: 0.2692 - val_loss: 0.4376 - val_acc: 0.8643 - val_binary_crossentropy: 0.4376\n",
            "Epoch 13/20\n",
            " - 4s - loss: 0.2569 - acc: 0.9740 - binary_crossentropy: 0.2569 - val_loss: 0.4349 - val_acc: 0.8651 - val_binary_crossentropy: 0.4349\n",
            "Epoch 14/20\n",
            " - 4s - loss: 0.2454 - acc: 0.9763 - binary_crossentropy: 0.2454 - val_loss: 0.4464 - val_acc: 0.8636 - val_binary_crossentropy: 0.4464\n",
            "Epoch 15/20\n",
            " - 4s - loss: 0.2345 - acc: 0.9783 - binary_crossentropy: 0.2345 - val_loss: 0.4549 - val_acc: 0.8629 - val_binary_crossentropy: 0.4549\n",
            "Epoch 16/20\n",
            " - 4s - loss: 0.2247 - acc: 0.9797 - binary_crossentropy: 0.2247 - val_loss: 0.4468 - val_acc: 0.8635 - val_binary_crossentropy: 0.4468\n",
            "Epoch 17/20\n",
            " - 4s - loss: 0.2160 - acc: 0.9814 - binary_crossentropy: 0.2160 - val_loss: 0.4497 - val_acc: 0.8639 - val_binary_crossentropy: 0.4497\n",
            "Epoch 18/20\n",
            " - 4s - loss: 0.2073 - acc: 0.9825 - binary_crossentropy: 0.2073 - val_loss: 0.4737 - val_acc: 0.8614 - val_binary_crossentropy: 0.4737\n",
            "Epoch 19/20\n",
            " - 4s - loss: 0.1992 - acc: 0.9835 - binary_crossentropy: 0.1992 - val_loss: 0.4792 - val_acc: 0.8608 - val_binary_crossentropy: 0.4792\n",
            "Epoch 20/20\n",
            " - 4s - loss: 0.1915 - acc: 0.9842 - binary_crossentropy: 0.1915 - val_loss: 0.5028 - val_acc: 0.8584 - val_binary_crossentropy: 0.5028\n"
          ],
          "name": "stdout"
        }
      ]
    },
    {
      "metadata": {
        "id": "0ApngKbf7pU2",
        "colab_type": "code",
        "colab": {
          "base_uri": "https://localhost:8080/",
          "height": 246
        },
        "outputId": "edea49b3-ccc7-47ab-c79b-66cc6eaa8b73"
      },
      "cell_type": "code",
      "source": [
        "bigger_model = keras.models.Sequential([\n",
        "    keras.layers.Dense(512, activation=tf.nn.relu, input_shape=(NUM_WORDS,)),\n",
        "    keras.layers.Dense(512, activation=tf.nn.relu),\n",
        "    keras.layers.Dense(1, activation=tf.nn.sigmoid)\n",
        "])\n",
        "\n",
        "bigger_model.compile(optimizer='adam',\n",
        "                     loss='binary_crossentropy',\n",
        "                     metrics=['accuracy','binary_crossentropy'])\n",
        "\n",
        "bigger_model.summary()"
      ],
      "execution_count": 10,
      "outputs": [
        {
          "output_type": "stream",
          "text": [
            "_________________________________________________________________\n",
            "Layer (type)                 Output Shape              Param #   \n",
            "=================================================================\n",
            "dense_6 (Dense)              (None, 512)               5120512   \n",
            "_________________________________________________________________\n",
            "dense_7 (Dense)              (None, 512)               262656    \n",
            "_________________________________________________________________\n",
            "dense_8 (Dense)              (None, 1)                 513       \n",
            "=================================================================\n",
            "Total params: 5,383,681\n",
            "Trainable params: 5,383,681\n",
            "Non-trainable params: 0\n",
            "_________________________________________________________________\n"
          ],
          "name": "stdout"
        }
      ]
    },
    {
      "metadata": {
        "id": "kVly6naL597r",
        "colab_type": "code",
        "colab": {
          "base_uri": "https://localhost:8080/",
          "height": 738
        },
        "outputId": "7b36bd0f-4339-406e-bb01-e5f035d24daa"
      },
      "cell_type": "code",
      "source": [
        "bigger_history = bigger_model.fit(train_data, train_labels,\n",
        "                                  epochs=20,\n",
        "                                  batch_size=512,\n",
        "                                  validation_data=(test_data, test_labels),\n",
        "                                  verbose=2)"
      ],
      "execution_count": 11,
      "outputs": [
        {
          "output_type": "stream",
          "text": [
            "Train on 25000 samples, validate on 25000 samples\n",
            "Epoch 1/20\n",
            " - 20s - loss: 0.3511 - acc: 0.8532 - binary_crossentropy: 0.3511 - val_loss: 0.3134 - val_acc: 0.8723 - val_binary_crossentropy: 0.3134\n",
            "Epoch 2/20\n",
            " - 19s - loss: 0.1409 - acc: 0.9484 - binary_crossentropy: 0.1409 - val_loss: 0.3578 - val_acc: 0.8638 - val_binary_crossentropy: 0.3578\n",
            "Epoch 3/20\n",
            " - 19s - loss: 0.0483 - acc: 0.9863 - binary_crossentropy: 0.0483 - val_loss: 0.4185 - val_acc: 0.8702 - val_binary_crossentropy: 0.4185\n",
            "Epoch 4/20\n",
            " - 19s - loss: 0.0084 - acc: 0.9987 - binary_crossentropy: 0.0084 - val_loss: 0.5662 - val_acc: 0.8700 - val_binary_crossentropy: 0.5662\n",
            "Epoch 5/20\n",
            " - 19s - loss: 0.0014 - acc: 1.0000 - binary_crossentropy: 0.0014 - val_loss: 0.6668 - val_acc: 0.8711 - val_binary_crossentropy: 0.6668\n",
            "Epoch 6/20\n",
            " - 19s - loss: 2.6328e-04 - acc: 1.0000 - binary_crossentropy: 2.6328e-04 - val_loss: 0.7126 - val_acc: 0.8715 - val_binary_crossentropy: 0.7126\n",
            "Epoch 7/20\n",
            " - 19s - loss: 1.4855e-04 - acc: 1.0000 - binary_crossentropy: 1.4855e-04 - val_loss: 0.7405 - val_acc: 0.8714 - val_binary_crossentropy: 0.7405\n",
            "Epoch 8/20\n",
            " - 19s - loss: 1.0443e-04 - acc: 1.0000 - binary_crossentropy: 1.0443e-04 - val_loss: 0.7613 - val_acc: 0.8712 - val_binary_crossentropy: 0.7613\n",
            "Epoch 9/20\n",
            " - 19s - loss: 7.9068e-05 - acc: 1.0000 - binary_crossentropy: 7.9068e-05 - val_loss: 0.7782 - val_acc: 0.8712 - val_binary_crossentropy: 0.7782\n",
            "Epoch 10/20\n",
            " - 19s - loss: 6.2427e-05 - acc: 1.0000 - binary_crossentropy: 6.2427e-05 - val_loss: 0.7924 - val_acc: 0.8713 - val_binary_crossentropy: 0.7924\n",
            "Epoch 11/20\n",
            " - 19s - loss: 5.0391e-05 - acc: 1.0000 - binary_crossentropy: 5.0391e-05 - val_loss: 0.8062 - val_acc: 0.8716 - val_binary_crossentropy: 0.8062\n",
            "Epoch 12/20\n",
            " - 19s - loss: 4.1633e-05 - acc: 1.0000 - binary_crossentropy: 4.1633e-05 - val_loss: 0.8173 - val_acc: 0.8712 - val_binary_crossentropy: 0.8173\n",
            "Epoch 13/20\n",
            " - 19s - loss: 3.4858e-05 - acc: 1.0000 - binary_crossentropy: 3.4858e-05 - val_loss: 0.8276 - val_acc: 0.8714 - val_binary_crossentropy: 0.8276\n",
            "Epoch 14/20\n",
            " - 19s - loss: 2.9610e-05 - acc: 1.0000 - binary_crossentropy: 2.9610e-05 - val_loss: 0.8379 - val_acc: 0.8714 - val_binary_crossentropy: 0.8379\n",
            "Epoch 15/20\n",
            " - 19s - loss: 2.5374e-05 - acc: 1.0000 - binary_crossentropy: 2.5374e-05 - val_loss: 0.8470 - val_acc: 0.8716 - val_binary_crossentropy: 0.8470\n",
            "Epoch 16/20\n",
            " - 19s - loss: 2.1979e-05 - acc: 1.0000 - binary_crossentropy: 2.1979e-05 - val_loss: 0.8553 - val_acc: 0.8717 - val_binary_crossentropy: 0.8553\n",
            "Epoch 17/20\n",
            " - 19s - loss: 1.9174e-05 - acc: 1.0000 - binary_crossentropy: 1.9174e-05 - val_loss: 0.8641 - val_acc: 0.8713 - val_binary_crossentropy: 0.8641\n",
            "Epoch 18/20\n",
            " - 19s - loss: 1.6858e-05 - acc: 1.0000 - binary_crossentropy: 1.6858e-05 - val_loss: 0.8714 - val_acc: 0.8715 - val_binary_crossentropy: 0.8714\n",
            "Epoch 19/20\n",
            " - 19s - loss: 1.4893e-05 - acc: 1.0000 - binary_crossentropy: 1.4893e-05 - val_loss: 0.8787 - val_acc: 0.8716 - val_binary_crossentropy: 0.8787\n",
            "Epoch 20/20\n",
            " - 19s - loss: 1.3253e-05 - acc: 1.0000 - binary_crossentropy: 1.3253e-05 - val_loss: 0.8860 - val_acc: 0.8714 - val_binary_crossentropy: 0.8860\n"
          ],
          "name": "stdout"
        }
      ]
    },
    {
      "metadata": {
        "id": "uO9EUMKp7hn3",
        "colab_type": "code",
        "colab": {
          "base_uri": "https://localhost:8080/",
          "height": 606
        },
        "outputId": "71744fe9-f00d-41ce-b29e-74b9394620fa"
      },
      "cell_type": "code",
      "source": [
        "def plot_history(histories, key='binary_crossentropy'):\n",
        "  plt.figure(figsize=(16,10))\n",
        "    \n",
        "  for name, history in histories:\n",
        "    val = plt.plot(history.epoch, history.history['val_'+key],\n",
        "                   '--', label=name.title()+' Val')\n",
        "    plt.plot(history.epoch, history.history[key], color=val[0].get_color(),\n",
        "             label=name.title()+' Train')\n",
        "\n",
        "  plt.xlabel('Epochs')\n",
        "  plt.ylabel(key.replace('_',' ').title())\n",
        "  plt.legend()\n",
        "\n",
        "  plt.xlim([0,max(history.epoch)])\n",
        "\n",
        "\n",
        "plot_history([('baseline', baseline_history),\n",
        "              ('smaller', smaller_history),\n",
        "              ('bigger', bigger_history)])"
      ],
      "execution_count": 14,
      "outputs": [
        {
          "output_type": "display_data",
          "data": {
            "image/png": "[encoded data removed]",
            "text/plain": [
              "<matplotlib.figure.Figure at 0x7f5ebf1fa240>"
            ]
          },
          "metadata": {
            "tags": []
          }
        }
      ]
    },
    {
      "metadata": {
        "id": "VJx_H3917u__",
        "colab_type": "code",
        "colab": {}
      },
      "cell_type": "code",
      "source": [
        "# smaller 과 bigger의 차이점 : normal과 비교\n",
        "# smaller : 장. 걸리는 시간이 빠르다. / 단. 정확도가 낮다.\n",
        "# bigger : 장. 정확도가 높다. / 단. 설리는 시간이 길다.\n",
        "# 나눈 기준 : model의 dense layer를 통과한 후 나오는 output layer의 크기에 따라. "
      ],
      "execution_count": 0,
      "outputs": []
    }
  ]
}